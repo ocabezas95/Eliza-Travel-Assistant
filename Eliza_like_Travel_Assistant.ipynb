{
  "nbformat": 4,
  "nbformat_minor": 0,
  "metadata": {
    "colab": {
      "provenance": []
    },
    "kernelspec": {
      "name": "python3",
      "display_name": "Python 3"
    },
    "language_info": {
      "name": "python"
    }
  },
  "cells": [
    {
      "cell_type": "code",
      "execution_count": null,
      "metadata": {
        "id": "le5Eus_2KK_D"
      },
      "outputs": [],
      "source": [
        "# Description: This program is an Travel assistant similar to Eliza"
      ]
    },
    {
      "cell_type": "code",
      "source": [
        "import re\n",
        "import random\n"
      ],
      "metadata": {
        "id": "7cmS0yBoLEbR"
      },
      "execution_count": null,
      "outputs": []
    },
    {
      "cell_type": "code",
      "source": [
        "# list of pre-defined responses\n",
        "response = {\n",
        "    \"hello\": [\"Hello! Where are you planning to travel?\"],\n",
        "    \"how are you\": [\"I'm just a travel assistant, but I'm here to help you plan your next trip!\"],\n",
        "    \"i want to visit (.*)\": [\"That sounds amazing! Have you been to {} before?\", \"What interests you about {}?\"],\n",
        "    \"what can I do in (.*)\": [\"There are plenty of things to do in {}! Do you prefer adventure, relaxation, or sightseeing?\", \"What kind of activities are you looking for in {}?\"],\n",
        "    \"how is the weather in (.*)\": [\"The weather in {} can vary! What time of year are you planning to go?\", \"Would you like tips on what to pack for {}?\"],\n",
        "    \"what should I eat in (.*)\": [\"{} has amazing local food! Do you prefer street food or fine dining?\", \"Would you like recommendations for must-try dishes in {}?\"],\n",
        "    \"how do I get to (.*)\": [\"There are several ways to travel to {}. Are you looking for flights, trains, or road trip options?\", \"Would you like budget-friendly travel tips for {}?\"],\n",
        "    \"(.*) hotel (.*)\": [\"Are you looking for luxury hotels or budget-friendly stays?\", \"What type of accommodation do you prefer?\"],\n",
        "    \"(.*) budget (.*)\": [\"Are you looking for budget travel tips or ways to save money on your trip?\", \"Would you like recommendations for affordable places to stay and eat?\"],\n",
        "    \"(.*) landmarks in (.*)\": [\"{1} has some famous landmarks! Are you interested in historical sites or natural attractions?\", \"Would you like recommendations for must-see landmarks in {1}?\"],\n",
        "    \"(.*) best time to visit (.*)\": [\"The best time to visit {1} depends on the weather and events. Are you looking for peak season or off-season travel?\", \"Do you prefer visiting {1} during a festival or when it’s less crowded?\"],\n",
        "    \"(.*) activities in (.*)\": [\"There are so many activities to do in {1}! Are you interested in outdoor adventures or cultural experiences?\", \"Would you like suggestions for unique activities in {1}?\"],\n",
        "    \"(.*) transportation in (.*)\": [\"Getting around {1} is easy! Are you looking for public transport, rental cars, or walking tours?\", \"Would you like tips on the best ways to travel within {1}?\"],\n",
        "    \"(.*) travel tips for (.*)\": [\"{1} is a great destination! Are you looking for safety tips, cultural etiquette, or general travel advice?\", \"Would you like packing tips for {1}?\"],\n",
        "    \"(.*) nightlife in (.*)\": [\"The nightlife in {1} is vibrant! Do you prefer clubs, bars, or cultural performances?\", \"Would you like recommendations for the best places to enjoy the nightlife in {1}?\"],\n",
        "    \"yes\": [\"Perfect! What’s next?\", \"Glad to hear that!\", \"That’s what I like to hear!\", \"Are you planning to go again?\"],\n",
        "    \"no\": [\"lets plan the best vacations for you\", \"That’s totally fine! Let me know what you're looking for.\", \"That’s alright! Let’s figure out what works best for you.\", \"All good! Travel plans should be flexible—let’s find what’s right for you.\", \"That’s okay! Let’s look at some other great options.\"],\n",
        "    \".*\": [\"That sounds great!\", \"Interesting! Tell me more.\", \"Oh, that’s exciting!\", \"Got it!\", \"let me see what can I do for you\", \"noted\", \"I hear you\"],\n",
        "\n",
        "}\n"
      ],
      "metadata": {
        "id": "9Nql6qORLJhG"
      },
      "execution_count": null,
      "outputs": []
    },
    {
      "cell_type": "code",
      "source": [
        "# function to match user input\n",
        "def match_response(user_input):\n",
        "  for pattern, response_list in response.items():\n",
        "    matches = re.match(pattern, user_input.lower())\n",
        "    if matches:\n",
        "      chosen_response = random.choice(response_list)\n",
        "      return chosen_response.format(*matches.groups())\n",
        "  # if there is no pattern match\n",
        "  return \"I'm sorry I dont understand what you're saying.\"\n"
      ],
      "metadata": {
        "id": "4myHja9ePCxN"
      },
      "execution_count": null,
      "outputs": []
    },
    {
      "cell_type": "code",
      "source": [
        "# main\n",
        "print(\"Welcome to the Travel Assistant! How can I help you plan your next trip?\")\n",
        "while True:\n",
        "  user_input = input(\"You: \")\n",
        "  if user_input == \"bye\":\n",
        "    print(\"Travel Assistant: Goodbye! Have a great trip!\")\n",
        "    break\n",
        "  else:\n",
        "    print(\"Travel Assistant: \", match_response(user_input))\n"
      ],
      "metadata": {
        "colab": {
          "base_uri": "https://localhost:8080/"
        },
        "id": "VGe3eei5Qwc3",
        "outputId": "45d491f1-7f48-4d62-d319-13c3486457f3"
      },
      "execution_count": null,
      "outputs": [
        {
          "output_type": "stream",
          "name": "stdout",
          "text": [
            "Welcome to the Travel Assistant! How can I help you plan your next trip?\n",
            "You: bye\n",
            "Travel Assistant: Goodbye! Have a great trip!\n"
          ]
        }
      ]
    }
  ]
}